{
 "cells": [
  {
   "cell_type": "code",
   "execution_count": 1,
   "id": "f86d4bef-9250-4f70-90bd-da7ab84f72d4",
   "metadata": {},
   "outputs": [],
   "source": [
    "import pandas as pd\n",
    "\n",
    "from src.prisma import prisma\n",
    "from utils.ml_engine import InGameDataMachineLearningEngineCsGo"
   ]
  },
  {
   "cell_type": "code",
   "execution_count": 2,
   "id": "2c4e1d21-574b-4f85-91cc-730b167b1024",
   "metadata": {},
   "outputs": [],
   "source": [
    "in_game_data_ml_engine_cs_go = InGameDataMachineLearningEngineCsGo()"
   ]
  },
  {
   "cell_type": "code",
   "execution_count": 3,
   "id": "e1bcaaa5-1597-4a18-8326-b87a5f62039c",
   "metadata": {},
   "outputs": [
    {
     "ename": "UnsupportedOperation",
     "evalue": "fileno",
     "output_type": "error",
     "traceback": [
      "\u001b[1;31m---------------------------------------------------------------------------\u001b[0m",
      "\u001b[1;31mUnsupportedOperation\u001b[0m                      Traceback (most recent call last)",
      "Cell \u001b[1;32mIn[3], line 1\u001b[0m\n\u001b[1;32m----> 1\u001b[0m \u001b[39mawait\u001b[39;00m in_game_data_ml_engine_cs_go\u001b[39m.\u001b[39mconnect()\n",
      "File \u001b[1;32ma:\\dataJam\\datajam-2023\\python\\analysis\\utils\\in_game_data.py:165\u001b[0m, in \u001b[0;36mInGameDataCsGo.connect\u001b[1;34m(self)\u001b[0m\n\u001b[0;32m    163\u001b[0m \u001b[39masync\u001b[39;00m \u001b[39mdef\u001b[39;00m \u001b[39mconnect\u001b[39m(\u001b[39mself\u001b[39m):\n\u001b[0;32m    164\u001b[0m     \u001b[39mif\u001b[39;00m \u001b[39mnot\u001b[39;00m \u001b[39mself\u001b[39m\u001b[39m.\u001b[39m_conn\u001b[39m.\u001b[39mis_connected():\n\u001b[1;32m--> 165\u001b[0m         \u001b[39mawait\u001b[39;00m prisma\u001b[39m.\u001b[39mconnect()\n",
      "File \u001b[1;32ma:\\python-essentials-do-not-delete\\miniconda\\envs\\datajam\\lib\\site-packages\\prisma\\client.py:338\u001b[0m, in \u001b[0;36mPrisma.connect\u001b[1;34m(self, timeout)\u001b[0m\n\u001b[0;32m    335\u001b[0m     ds\u001b[39m.\u001b[39msetdefault(\u001b[39m'\u001b[39m\u001b[39mname\u001b[39m\u001b[39m'\u001b[39m, \u001b[39m'\u001b[39m\u001b[39mdb\u001b[39m\u001b[39m'\u001b[39m)\n\u001b[0;32m    336\u001b[0m     datasources \u001b[39m=\u001b[39m [ds]\n\u001b[1;32m--> 338\u001b[0m \u001b[39mawait\u001b[39;00m \u001b[39mself\u001b[39m\u001b[39m.\u001b[39m__engine\u001b[39m.\u001b[39mconnect(\n\u001b[0;32m    339\u001b[0m     timeout\u001b[39m=\u001b[39mtimeout,\n\u001b[0;32m    340\u001b[0m     datasources\u001b[39m=\u001b[39mdatasources,\n\u001b[0;32m    341\u001b[0m )\n",
      "File \u001b[1;32ma:\\python-essentials-do-not-delete\\miniconda\\envs\\datajam\\lib\\site-packages\\prisma\\engine\\query.py:129\u001b[0m, in \u001b[0;36mQueryEngine.connect\u001b[1;34m(self, timeout, datasources)\u001b[0m\n\u001b[0;32m    126\u001b[0m \u001b[39mself\u001b[39m\u001b[39m.\u001b[39mfile \u001b[39m=\u001b[39m file \u001b[39m=\u001b[39m \u001b[39mself\u001b[39m\u001b[39m.\u001b[39m_ensure_file()\n\u001b[0;32m    128\u001b[0m \u001b[39mtry\u001b[39;00m:\n\u001b[1;32m--> 129\u001b[0m     \u001b[39mawait\u001b[39;00m \u001b[39mself\u001b[39m\u001b[39m.\u001b[39mspawn(file, timeout\u001b[39m=\u001b[39mtimeout, datasources\u001b[39m=\u001b[39mdatasources)\n\u001b[0;32m    130\u001b[0m \u001b[39mexcept\u001b[39;00m \u001b[39mException\u001b[39;00m:\n\u001b[0;32m    131\u001b[0m     \u001b[39mself\u001b[39m\u001b[39m.\u001b[39mclose()\n",
      "File \u001b[1;32ma:\\python-essentials-do-not-delete\\miniconda\\envs\\datajam\\lib\\site-packages\\prisma\\engine\\query.py:185\u001b[0m, in \u001b[0;36mQueryEngine.spawn\u001b[1;34m(self, file, timeout, datasources)\u001b[0m\n\u001b[0;32m    178\u001b[0m \u001b[39mif\u001b[39;00m platform\u001b[39m.\u001b[39mname() \u001b[39m!=\u001b[39m \u001b[39m'\u001b[39m\u001b[39mwindows\u001b[39m\u001b[39m'\u001b[39m:\n\u001b[0;32m    179\u001b[0m     \u001b[39m# ensure SIGINT is unblocked before forking the query engine\u001b[39;00m\n\u001b[0;32m    180\u001b[0m     \u001b[39m# https://github.com/RobertCraigie/prisma-client-py/pull/678\u001b[39;00m\n\u001b[0;32m    181\u001b[0m     popen_kwargs[\u001b[39m\"\u001b[39m\u001b[39mpreexec_fn\u001b[39m\u001b[39m\"\u001b[39m] \u001b[39m=\u001b[39m \u001b[39mlambda\u001b[39;00m: signal\u001b[39m.\u001b[39mpthread_sigmask(\n\u001b[0;32m    182\u001b[0m         signal\u001b[39m.\u001b[39mSIG_UNBLOCK, [signal\u001b[39m.\u001b[39mSIGINT, signal\u001b[39m.\u001b[39mSIGTERM]\n\u001b[0;32m    183\u001b[0m     )\n\u001b[1;32m--> 185\u001b[0m \u001b[39mself\u001b[39m\u001b[39m.\u001b[39mprocess \u001b[39m=\u001b[39m subprocess\u001b[39m.\u001b[39mPopen(\n\u001b[0;32m    186\u001b[0m     args,\n\u001b[0;32m    187\u001b[0m     \u001b[39m*\u001b[39m\u001b[39m*\u001b[39mpopen_kwargs\n\u001b[0;32m    188\u001b[0m )\n\u001b[0;32m    190\u001b[0m last_exc \u001b[39m=\u001b[39m \u001b[39mNone\u001b[39;00m\n\u001b[0;32m    191\u001b[0m \u001b[39mfor\u001b[39;00m _ \u001b[39min\u001b[39;00m \u001b[39mrange\u001b[39m(\u001b[39mint\u001b[39m(timeout \u001b[39m/\u001b[39m \u001b[39m0.1\u001b[39m)):\n",
      "File \u001b[1;32ma:\\python-essentials-do-not-delete\\miniconda\\envs\\datajam\\lib\\subprocess.py:837\u001b[0m, in \u001b[0;36mPopen.__init__\u001b[1;34m(self, args, bufsize, executable, stdin, stdout, stderr, preexec_fn, close_fds, shell, cwd, env, universal_newlines, startupinfo, creationflags, restore_signals, start_new_session, pass_fds, user, group, extra_groups, encoding, errors, text, umask, pipesize)\u001b[0m\n\u001b[0;32m    816\u001b[0m     \u001b[39mraise\u001b[39;00m SubprocessError(\u001b[39m'\u001b[39m\u001b[39mCannot disambiguate when both text \u001b[39m\u001b[39m'\u001b[39m\n\u001b[0;32m    817\u001b[0m                           \u001b[39m'\u001b[39m\u001b[39mand universal_newlines are supplied but \u001b[39m\u001b[39m'\u001b[39m\n\u001b[0;32m    818\u001b[0m                           \u001b[39m'\u001b[39m\u001b[39mdifferent. Pass one or the other.\u001b[39m\u001b[39m'\u001b[39m)\n\u001b[0;32m    820\u001b[0m \u001b[39m# Input and output objects. The general principle is like\u001b[39;00m\n\u001b[0;32m    821\u001b[0m \u001b[39m# this:\u001b[39;00m\n\u001b[0;32m    822\u001b[0m \u001b[39m#\u001b[39;00m\n\u001b[1;32m   (...)\u001b[0m\n\u001b[0;32m    832\u001b[0m \u001b[39m# are -1 when not using PIPEs. The child objects are -1\u001b[39;00m\n\u001b[0;32m    833\u001b[0m \u001b[39m# when not redirecting.\u001b[39;00m\n\u001b[0;32m    835\u001b[0m (p2cread, p2cwrite,\n\u001b[0;32m    836\u001b[0m  c2pread, c2pwrite,\n\u001b[1;32m--> 837\u001b[0m  errread, errwrite) \u001b[39m=\u001b[39m \u001b[39mself\u001b[39;49m\u001b[39m.\u001b[39;49m_get_handles(stdin, stdout, stderr)\n\u001b[0;32m    839\u001b[0m \u001b[39m# We wrap OS handles *before* launching the child, otherwise a\u001b[39;00m\n\u001b[0;32m    840\u001b[0m \u001b[39m# quickly terminating child could make our fds unwrappable\u001b[39;00m\n\u001b[0;32m    841\u001b[0m \u001b[39m# (see #8458).\u001b[39;00m\n\u001b[0;32m    843\u001b[0m \u001b[39mif\u001b[39;00m _mswindows:\n",
      "File \u001b[1;32ma:\\python-essentials-do-not-delete\\miniconda\\envs\\datajam\\lib\\subprocess.py:1304\u001b[0m, in \u001b[0;36mPopen._get_handles\u001b[1;34m(self, stdin, stdout, stderr)\u001b[0m\n\u001b[0;32m   1301\u001b[0m     c2pwrite \u001b[39m=\u001b[39m msvcrt\u001b[39m.\u001b[39mget_osfhandle(stdout)\n\u001b[0;32m   1302\u001b[0m \u001b[39melse\u001b[39;00m:\n\u001b[0;32m   1303\u001b[0m     \u001b[39m# Assuming file-like object\u001b[39;00m\n\u001b[1;32m-> 1304\u001b[0m     c2pwrite \u001b[39m=\u001b[39m msvcrt\u001b[39m.\u001b[39mget_osfhandle(stdout\u001b[39m.\u001b[39;49mfileno())\n\u001b[0;32m   1305\u001b[0m c2pwrite \u001b[39m=\u001b[39m \u001b[39mself\u001b[39m\u001b[39m.\u001b[39m_make_inheritable(c2pwrite)\n\u001b[0;32m   1307\u001b[0m \u001b[39mif\u001b[39;00m stderr \u001b[39mis\u001b[39;00m \u001b[39mNone\u001b[39;00m:\n",
      "File \u001b[1;32ma:\\python-essentials-do-not-delete\\miniconda\\envs\\datajam\\lib\\site-packages\\ipykernel\\iostream.py:356\u001b[0m, in \u001b[0;36mOutStream.fileno\u001b[1;34m(self)\u001b[0m\n\u001b[0;32m    354\u001b[0m \u001b[39melse\u001b[39;00m:\n\u001b[0;32m    355\u001b[0m     msg \u001b[39m=\u001b[39m \u001b[39m\"\u001b[39m\u001b[39mfileno\u001b[39m\u001b[39m\"\u001b[39m\n\u001b[1;32m--> 356\u001b[0m     \u001b[39mraise\u001b[39;00m io\u001b[39m.\u001b[39mUnsupportedOperation(msg)\n",
      "\u001b[1;31mUnsupportedOperation\u001b[0m: fileno"
     ]
    }
   ],
   "source": [
    "await in_game_data_ml_engine_cs_go.connect()"
   ]
  },
  {
   "cell_type": "code",
   "execution_count": null,
   "id": "3bafc3b8-4b8f-49cc-832c-6c129e82ed7b",
   "metadata": {},
   "outputs": [],
   "source": [
    "match_ids = [\n",
    "    \"4198c9e0-fee4-44b9-994f-1fce92a62396\",\n",
    "    \"48edea41-cfbf-4df4-9db1-95ceb5121f56\",\n",
    "    \"5061e2fb-b880-4705-9466-dd3d25d55a03\",\n",
    "    \"5158f4a5-02ac-47ee-b153-7796b5800d3f\",\n",
    "    \"c5c7500c-6db8-45c8-b6ab-2be01b401ef7\",\n",
    "    \"c7c65bec-8c54-4dea-afcd-c057320e1f8f\",\n",
    "]\n",
    "\n",
    "players_stats = await in_game_data_ml_engine_cs_go.get_players_stats(match_ids)"
   ]
  },
  {
   "cell_type": "code",
   "execution_count": null,
   "id": "01d71d1d-7ab4-44e2-b0b9-e9fb1e2f4268",
   "metadata": {},
   "outputs": [],
   "source": [
    "players_stats[\"totalKeyMomentCount\"] = players_stats[\"damageKillKeyMomentCount\"] + players_stats[\"killKillKeyMomentCount\"]\n",
    "players_stats[\"totalKeyMomentTime\"] = players_stats[\"damageKillKeyMomentTotalTime\"] + players_stats[\"killKillKeyMomentTotalTime\"]"
   ]
  },
  {
   "cell_type": "code",
   "execution_count": null,
   "id": "bea32992-48cc-4f59-92f5-a297d871836e",
   "metadata": {},
   "outputs": [],
   "source": [
    "players_stats"
   ]
  },
  {
   "cell_type": "code",
   "execution_count": null,
   "id": "776a1286-55e9-4753-92c3-f64a5068a7a1",
   "metadata": {},
   "outputs": [],
   "source": [
    "async def post_player_stats_to_db(players_stats_df: pd.DataFrame):\n",
    "    async with prisma.batch_() as batcher:\n",
    "        players_stats = players_stats_df.to_dict(\"records\")\n",
    "\n",
    "        for player_stat in players_stats:\n",
    "            batcher.playercard.create(player_stat)\n",
    "\n",
    "        await batcher.commit()"
   ]
  },
  {
   "cell_type": "code",
   "execution_count": null,
   "id": "55934217-8255-4bab-b024-b50a4f3674ca",
   "metadata": {},
   "outputs": [],
   "source": [
    "await post_player_stats_to_db(players_stats)"
   ]
  },
  {
   "cell_type": "code",
   "execution_count": null,
   "id": "d8a93a5b-b6df-4537-8ef4-8491203bca64",
   "metadata": {},
   "outputs": [],
   "source": [
    "await in_game_data_ml_engine_cs_go.disconnect()"
   ]
  },
  {
   "cell_type": "code",
   "execution_count": null,
   "id": "7541f45e-39a8-4c5e-bb77-992738a75796",
   "metadata": {},
   "outputs": [],
   "source": []
  }
 ],
 "metadata": {
  "kernelspec": {
   "display_name": "Python 3.10.12 ('datajam')",
   "language": "python",
   "name": "python3"
  },
  "language_info": {
   "codemirror_mode": {
    "name": "ipython",
    "version": 3
   },
   "file_extension": ".py",
   "mimetype": "text/x-python",
   "name": "python",
   "nbconvert_exporter": "python",
   "pygments_lexer": "ipython3",
   "version": "3.10.12"
  },
  "vscode": {
   "interpreter": {
    "hash": "6f12dddc6e4a9f72e69d807cb17248d83ba3657dea586137bd3cd2d059f7c727"
   }
  }
 },
 "nbformat": 4,
 "nbformat_minor": 5
}
