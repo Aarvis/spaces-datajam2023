{
 "cells": [
  {
   "cell_type": "code",
   "execution_count": null,
   "id": "e174fb04-3aa1-49c9-bdf3-b4d3680043fb",
   "metadata": {},
   "outputs": [],
   "source": [
    "import pandas as pd\n",
    "\n",
    "from src.prisma import prisma"
   ]
  },
  {
   "cell_type": "code",
   "execution_count": null,
   "id": "f8b1163c-db6f-4955-93f3-fe6f48153bcf",
   "metadata": {},
   "outputs": [],
   "source": [
    "async def startup():\n",
    "    await prisma.connect()"
   ]
  },
  {
   "cell_type": "code",
   "execution_count": null,
   "id": "73c8646c-063b-48da-8817-31ef1f478abe",
   "metadata": {},
   "outputs": [],
   "source": [
    "async def shutdown():\n",
    "    await prisma.disconnect()"
   ]
  },
  {
   "cell_type": "code",
   "execution_count": null,
   "id": "88a0ecbe-6460-45ba-ba5b-749b9af83b5a",
   "metadata": {},
   "outputs": [],
   "source": [
    "async def get_players_rounds_stats_by_match_id(match_id: str):\n",
    "    match_rounds_raw_data = await prisma.round.find_many(\n",
    "        where={\n",
    "            'matchId': match_id,\n",
    "        },\n",
    "        include={\n",
    "            'playerRoundStats': True\n",
    "        },\n",
    "    )\n",
    "\n",
    "    match_rounds_players_stats = []\n",
    "    for match_round_raw_data in match_rounds_raw_data:\n",
    "        match_round_raw_data = match_round_raw_data.dict()\n",
    "\n",
    "        match_round_players_stats = []\n",
    "        for match_round_player_stats in match_round_raw_data[\"playerRoundStats\"]:\n",
    "            match_round_player_stats[\"matchId\"] = match_round_raw_data[\"matchId\"]\n",
    "    \n",
    "            match_round_players_stats.append(match_round_player_stats)\n",
    "\n",
    "        match_rounds_players_stats += match_round_players_stats\n",
    "\n",
    "    return match_rounds_players_stats"
   ]
  },
  {
   "cell_type": "code",
   "execution_count": null,
   "id": "eed8e5e6-8977-4114-9543-4e61550b085b",
   "metadata": {},
   "outputs": [],
   "source": [
    "async def get_players_rounds_stats_by_match_id_df(match_id: str):\n",
    "    match_rounds_players_stats = await get_players_rounds_stats_by_match_id(match_id)\n",
    "\n",
    "    match_rounds_players_stats_df = pd.DataFrame(match_rounds_players_stats)\n",
    "\n",
    "    return match_rounds_players_stats_df"
   ]
  },
  {
   "cell_type": "code",
   "execution_count": null,
   "id": "b9200ba9-f9f4-4643-9967-8406f82a6a8a",
   "metadata": {},
   "outputs": [],
   "source": [
    "async def get_players():\n",
    "    players_raw_data = await prisma.player.find_many(\n",
    "        distinct=[\"playerId\"],\n",
    "    )\n",
    "\n",
    "    players = []\n",
    "    for player_raw_data in players_raw_data:\n",
    "        players.append(player_raw_data.dict())\n",
    "\n",
    "    return players"
   ]
  },
  {
   "cell_type": "code",
   "execution_count": null,
   "id": "ec57abb9-ad2d-43e9-8efc-75a30165ad67",
   "metadata": {},
   "outputs": [],
   "source": [
    "async def get_team_ids_player_ids_df():\n",
    "    players = await get_players()\n",
    "\n",
    "    players_df = pd.DataFrame(players)\n",
    "\n",
    "    team_ids_player_ids_df = players_df[[\"playerId\", \"teamId\"]]\n",
    "\n",
    "    return team_ids_player_ids_df"
   ]
  },
  {
   "cell_type": "code",
   "execution_count": null,
   "id": "4968a76e-ae18-4a98-a7de-6ed69e4d632e",
   "metadata": {},
   "outputs": [],
   "source": [
    "async def get_teams_rounds_stats_by_match_id(match_id: str):\n",
    "    match_rounds_raw_data = await prisma.round.find_many(\n",
    "        where={\n",
    "            'matchId': match_id,\n",
    "        },\n",
    "        include={\n",
    "            'teamRoundStats': True\n",
    "        },\n",
    "    )\n",
    "\n",
    "    match_rounds_teams_stats = []\n",
    "    for match_round_raw_data in match_rounds_raw_data:\n",
    "        match_round_raw_data = match_round_raw_data.dict()\n",
    "\n",
    "        match_round_teams_stats = []\n",
    "        for match_round_team_stats in match_round_raw_data[\"teamRoundStats\"]:\n",
    "            match_round_team_stats[\"matchId\"] = match_round_raw_data[\"matchId\"]\n",
    "    \n",
    "            match_round_teams_stats.append(match_round_team_stats)\n",
    "\n",
    "        match_rounds_teams_stats += match_round_teams_stats\n",
    "\n",
    "    return match_rounds_teams_stats"
   ]
  },
  {
   "cell_type": "code",
   "execution_count": null,
   "id": "e9106fe6-8b3f-4e73-bbde-85a7b697f041",
   "metadata": {},
   "outputs": [],
   "source": [
    "async def get_teams_rounds_stats_by_match_id_df(match_id: str):\n",
    "    match_rounds_teams_stats = await get_teams_rounds_stats_by_match_id(match_id)\n",
    "\n",
    "    match_rounds_teams_stats_df = pd.DataFrame(match_rounds_teams_stats)\n",
    "\n",
    "    return match_rounds_teams_stats_df"
   ]
  },
  {
   "cell_type": "code",
   "execution_count": null,
   "id": "2f1aa8f9-f50b-4aa1-bc42-88651c49cb2a",
   "metadata": {},
   "outputs": [],
   "source": [
    "async def get_aces_by_match_id(match_id: str):\n",
    "    match_rounds_players_stats_df = await get_players_rounds_stats_by_match_id_df(match_id)\n",
    "    team_ids_player_ids_df = await get_team_ids_player_ids_df()\n",
    "\n",
    "    match_rounds_players_stats_df = match_rounds_players_stats_df.merge(team_ids_player_ids_df, on=\"playerId\", how=\"inner\")\n",
    "\n",
    "    team_ids = match_rounds_players_stats_df[\"teamId\"].unique()\n",
    "\n",
    "    match_rounds_players_stats_df[\"opponentTeamId\"] = match_rounds_players_stats_df.apply(\n",
    "        lambda x: team_ids[1] if x[\"teamId\"] == team_ids[0] else team_ids[0],\n",
    "        axis=1\n",
    "    )\n",
    "\n",
    "    num_players = match_rounds_players_stats_df.groupby(\n",
    "        [\"roundId\", \"teamId\"]\n",
    "    )[\"playerId\"].count().reset_index().rename(columns={\"playerId\": \"playersCount\"})\n",
    "\n",
    "    match_rounds_players_stats_df = match_rounds_players_stats_df.merge(\n",
    "        num_players, \n",
    "        left_on=[\"roundId\", \"opponentTeamId\"],\n",
    "        right_on=[\"roundId\", \"teamId\"],\n",
    "        how=\"inner\"\n",
    "    )\n",
    "\n",
    "    match_rounds_players_stats_df.rename(columns={\"playersCount\": \"opponentTeamPlayersCount\"}, inplace=True)\n",
    "\n",
    "    match_rounds_players_stats_df[\"fractionOpponentTeamKilled\"] = match_rounds_players_stats_df[\"kills\"] / match_rounds_players_stats_df[\"opponentTeamPlayersCount\"]\n",
    "\n",
    "    match_rounds_players_stats_df[\"ace\"] = (match_rounds_players_stats_df[\"fractionOpponentTeamKilled\"] == 1.0)\n",
    "    \n",
    "    match_rounds_players_ace_df = match_rounds_players_stats_df[[\"roundId\", \"playerId\", \"fractionOpponentTeamKilled\", \"ace\"]]\n",
    "\n",
    "    return match_rounds_players_ace_df"
   ]
  },
  {
   "cell_type": "code",
   "execution_count": null,
   "id": "52112aec-42d4-4cb3-a7d4-871a306cf89d",
   "metadata": {},
   "outputs": [],
   "source": []
  },
  {
   "cell_type": "code",
   "execution_count": null,
   "id": "ec50a989-7c3d-468a-8989-bafacba5ef11",
   "metadata": {},
   "outputs": [],
   "source": []
  },
  {
   "cell_type": "code",
   "execution_count": null,
   "id": "70c1cf01-721e-49ad-827b-cbb1c2c97f17",
   "metadata": {},
   "outputs": [],
   "source": []
  }
 ],
 "metadata": {
  "kernelspec": {
   "display_name": "Python 3 (ipykernel)",
   "language": "python",
   "name": "python3"
  },
  "language_info": {
   "codemirror_mode": {
    "name": "ipython",
    "version": 3
   },
   "file_extension": ".py",
   "mimetype": "text/x-python",
   "name": "python",
   "nbconvert_exporter": "python",
   "pygments_lexer": "ipython3",
   "version": "3.10.12"
  }
 },
 "nbformat": 4,
 "nbformat_minor": 5
}
