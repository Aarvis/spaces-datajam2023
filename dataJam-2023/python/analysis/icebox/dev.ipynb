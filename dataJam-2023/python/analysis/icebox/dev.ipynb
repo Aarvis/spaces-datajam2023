{
 "cells": [
  {
   "cell_type": "code",
   "execution_count": 1,
   "id": "7628873d-7730-4ee0-96ba-98a8f2ed1e36",
   "metadata": {},
   "outputs": [],
   "source": [
    "import pandas as pd\n",
    "\n",
    "from src.prisma import prisma"
   ]
  },
  {
   "cell_type": "code",
   "execution_count": 2,
   "id": "4c84e7de-c89a-41f4-8795-cff9e2bdf1c8",
   "metadata": {},
   "outputs": [],
   "source": [
    "async def startup():\n",
    "    await prisma.connect()\n",
    "\n",
    "async def shutdown():\n",
    "    await prisma.disconnect()"
   ]
  },
  {
   "cell_type": "code",
   "execution_count": 3,
   "id": "551dc196-ede9-45a9-936f-e3fe7afbcfa4",
   "metadata": {},
   "outputs": [],
   "source": [
    "await startup()"
   ]
  },
  {
   "cell_type": "code",
   "execution_count": 4,
   "id": "e4d677b9-e30d-415b-8549-0739cb0bd56f",
   "metadata": {},
   "outputs": [],
   "source": [
    "async def get_players_rounds_stats_by_match_id(match_id: str):\n",
    "    match_rounds_raw_data = await prisma.round.find_many(\n",
    "        where={\n",
    "            'matchId': match_id,\n",
    "        },\n",
    "        include={\n",
    "            'playerRoundStats': True\n",
    "        },\n",
    "    )\n",
    "\n",
    "    match_rounds_players_stats = []\n",
    "    for match_round_raw_data in match_rounds_raw_data:\n",
    "        match_round_raw_data = match_round_raw_data.dict()\n",
    "\n",
    "        match_round_players_stats = []\n",
    "        for match_round_player_stats in match_round_raw_data[\"playerRoundStats\"]:\n",
    "            match_round_player_stats[\"matchId\"] = match_round_raw_data[\"matchId\"]\n",
    "    \n",
    "            match_round_players_stats.append(match_round_player_stats)\n",
    "\n",
    "        match_rounds_players_stats += match_round_players_stats\n",
    "\n",
    "    return match_rounds_players_stats"
   ]
  },
  {
   "cell_type": "code",
   "execution_count": 5,
   "id": "2bda1b7f-e624-4f10-a4ab-eecc8edd63c8",
   "metadata": {},
   "outputs": [],
   "source": [
    "async def get_players_rounds_stats_by_match_id_df(match_id: str):\n",
    "    match_rounds_players_stats = await get_players_rounds_stats_by_match_id(match_id)\n",
    "\n",
    "    match_rounds_players_stats_df = pd.DataFrame(match_rounds_players_stats)\n",
    "\n",
    "    return match_rounds_players_stats_df"
   ]
  },
  {
   "cell_type": "code",
   "execution_count": 6,
   "id": "d82fa16d-1442-470f-965e-e57353d1cc0f",
   "metadata": {},
   "outputs": [],
   "source": [
    "match_rounds_players_stats_df = await get_players_rounds_stats_by_match_id_df(\"c5c7500c-6db8-45c8-b6ab-2be01b401ef7\")"
   ]
  },
  {
   "cell_type": "code",
   "execution_count": 7,
   "id": "a6a29908-94bf-4f4f-aa95-9ef1a22e7e6f",
   "metadata": {},
   "outputs": [
    {
     "name": "stdout",
     "output_type": "stream",
     "text": [
      "<class 'pandas.core.frame.DataFrame'>\n",
      "RangeIndex: 270 entries, 0 to 269\n",
      "Data columns (total 23 columns):\n",
      " #   Column                  Non-Null Count  Dtype \n",
      "---  ------                  --------------  ----- \n",
      " 0   id                      270 non-null    object\n",
      " 1   playerViewTime          270 non-null    int64 \n",
      " 2   LastPersonStandingTime  270 non-null    int64 \n",
      " 3   viewTimePercentage      0 non-null      object\n",
      " 4   Ace                     270 non-null    bool  \n",
      " 5   Clutch                  270 non-null    bool  \n",
      " 6   kills                   270 non-null    int64 \n",
      " 7   killAssistsReceived     270 non-null    int64 \n",
      " 8   killAssistsGiven        270 non-null    int64 \n",
      " 9   selfKills               270 non-null    int64 \n",
      " 10  deaths                  270 non-null    int64 \n",
      " 11  headshots               270 non-null    int64 \n",
      " 12  damageDealt             270 non-null    int64 \n",
      " 13  damageTaken             270 non-null    int64 \n",
      " 14  teamDamageDealt         270 non-null    int64 \n",
      " 15  teamDamageTaken         270 non-null    int64 \n",
      " 16  teamKills               270 non-null    int64 \n",
      " 17  weaponKills             131 non-null    object\n",
      " 18  round                   0 non-null      object\n",
      " 19  roundId                 270 non-null    object\n",
      " 20  player                  0 non-null      object\n",
      " 21  playerId                270 non-null    object\n",
      " 22  matchId                 270 non-null    object\n",
      "dtypes: bool(2), int64(13), object(8)\n",
      "memory usage: 44.9+ KB\n"
     ]
    }
   ],
   "source": [
    "match_rounds_players_stats_df.info()"
   ]
  },
  {
   "cell_type": "code",
   "execution_count": 8,
   "id": "ab6a685f-3c04-46b5-8e2e-fffd52682683",
   "metadata": {},
   "outputs": [],
   "source": [
    "async def get_players():\n",
    "    players_raw_data = await prisma.player.find_many(\n",
    "        distinct=[\"playerId\"],\n",
    "    )\n",
    "\n",
    "    players = []\n",
    "    for player_raw_data in players_raw_data:\n",
    "        players.append(player_raw_data.dict())\n",
    "\n",
    "    return players"
   ]
  },
  {
   "cell_type": "code",
   "execution_count": 9,
   "id": "54dc859f-e940-4c99-bdbe-b7126b1cb363",
   "metadata": {},
   "outputs": [],
   "source": [
    "async def get_team_ids_player_ids_df():\n",
    "    players = await get_players()\n",
    "\n",
    "    players_df = pd.DataFrame(players)\n",
    "\n",
    "    team_ids_player_ids_df = players_df[[\"playerId\", \"teamId\"]]\n",
    "\n",
    "    return team_ids_player_ids_df"
   ]
  },
  {
   "cell_type": "code",
   "execution_count": 10,
   "id": "28999d5c-7a51-4ce4-86d8-fc4d0d98505d",
   "metadata": {},
   "outputs": [],
   "source": [
    "team_ids_player_ids_df = await get_team_ids_player_ids_df()"
   ]
  },
  {
   "cell_type": "code",
   "execution_count": 11,
   "id": "a8d06d9b-28b5-4a72-be40-8a6dff5f8b7b",
   "metadata": {},
   "outputs": [
    {
     "name": "stdout",
     "output_type": "stream",
     "text": [
      "<class 'pandas.core.frame.DataFrame'>\n",
      "RangeIndex: 10 entries, 0 to 9\n",
      "Data columns (total 2 columns):\n",
      " #   Column    Non-Null Count  Dtype \n",
      "---  ------    --------------  ----- \n",
      " 0   playerId  10 non-null     object\n",
      " 1   teamId    10 non-null     object\n",
      "dtypes: object(2)\n",
      "memory usage: 288.0+ bytes\n"
     ]
    }
   ],
   "source": [
    "team_ids_player_ids_df.info()"
   ]
  },
  {
   "cell_type": "code",
   "execution_count": 12,
   "id": "38457c39-35dd-4148-94a0-9b93c9f687c5",
   "metadata": {},
   "outputs": [],
   "source": [
    "async def get_teams_rounds_stats_by_match_id(match_id: str):\n",
    "    match_rounds_raw_data = await prisma.round.find_many(\n",
    "        where={\n",
    "            'matchId': match_id,\n",
    "        },\n",
    "        include={\n",
    "            'teamRoundStats': True\n",
    "        },\n",
    "    )\n",
    "\n",
    "    match_rounds_teams_stats = []\n",
    "    for match_round_raw_data in match_rounds_raw_data:\n",
    "        match_round_raw_data = match_round_raw_data.dict()\n",
    "\n",
    "        match_round_teams_stats = []\n",
    "        for match_round_team_stats in match_round_raw_data[\"teamRoundStats\"]:\n",
    "            match_round_team_stats[\"matchId\"] = match_round_raw_data[\"matchId\"]\n",
    "    \n",
    "            match_round_teams_stats.append(match_round_team_stats)\n",
    "\n",
    "        match_rounds_teams_stats += match_round_teams_stats\n",
    "\n",
    "    return match_rounds_teams_stats"
   ]
  },
  {
   "cell_type": "code",
   "execution_count": 13,
   "id": "eb1d3365-d1bd-439a-80eb-de3de5451308",
   "metadata": {},
   "outputs": [],
   "source": [
    "async def get_teams_rounds_stats_by_match_id_df(match_id: str):\n",
    "    match_rounds_teams_stats = await get_teams_rounds_stats_by_match_id(match_id)\n",
    "\n",
    "    match_rounds_teams_stats_df = pd.DataFrame(match_rounds_teams_stats)\n",
    "\n",
    "    return match_rounds_teams_stats_df"
   ]
  },
  {
   "cell_type": "code",
   "execution_count": 14,
   "id": "e54a90e1-d1f5-40ec-960b-bcd3ba360409",
   "metadata": {},
   "outputs": [],
   "source": [
    "match_rounds_teams_stats_df = await get_teams_rounds_stats_by_match_id_df(\"c5c7500c-6db8-45c8-b6ab-2be01b401ef7\")"
   ]
  },
  {
   "cell_type": "code",
   "execution_count": 15,
   "id": "3d9e37e5-c812-4c29-8834-e08bd00dd818",
   "metadata": {},
   "outputs": [
    {
     "name": "stdout",
     "output_type": "stream",
     "text": [
      "<class 'pandas.core.frame.DataFrame'>\n",
      "RangeIndex: 54 entries, 0 to 53\n",
      "Data columns (total 20 columns):\n",
      " #   Column              Non-Null Count  Dtype \n",
      "---  ------              --------------  ----- \n",
      " 0   id                  54 non-null     object\n",
      " 1   teamViewTime        54 non-null     int64 \n",
      " 2   viewTimePercentage  0 non-null      object\n",
      " 3   side                54 non-null     object\n",
      " 4   won                 54 non-null     bool  \n",
      " 5   winType             0 non-null      object\n",
      " 6   kills               54 non-null     int64 \n",
      " 7   deaths              54 non-null     int64 \n",
      " 8   damageDealt         54 non-null     int64 \n",
      " 9   damageTaken         54 non-null     int64 \n",
      " 10  teamDamageOccured   54 non-null     int64 \n",
      " 11  teamKillsOccured    54 non-null     int64 \n",
      " 12  selfKills           54 non-null     int64 \n",
      " 13  weaponKills         54 non-null     object\n",
      " 14  headshots           54 non-null     int64 \n",
      " 15  round               0 non-null      object\n",
      " 16  roundId             54 non-null     object\n",
      " 17  team                0 non-null      object\n",
      " 18  teamId              54 non-null     object\n",
      " 19  matchId             54 non-null     object\n",
      "dtypes: bool(1), int64(9), object(10)\n",
      "memory usage: 8.2+ KB\n"
     ]
    }
   ],
   "source": [
    "match_rounds_teams_stats_df.info()"
   ]
  },
  {
   "cell_type": "code",
   "execution_count": 19,
   "id": "5330b480-c7f1-4a34-b9ed-9c99123383b2",
   "metadata": {},
   "outputs": [],
   "source": [
    "async def get_aces_by_match_id(match_id: str):\n",
    "    match_rounds_players_stats_df = await get_players_rounds_stats_by_match_id_df(match_id)\n",
    "    team_ids_player_ids_df = await get_team_ids_player_ids_df()\n",
    "\n",
    "    match_rounds_players_stats_df = match_rounds_players_stats_df.merge(team_ids_player_ids_df, on=\"playerId\", how=\"inner\")\n",
    "\n",
    "    team_ids = match_rounds_players_stats_df[\"teamId\"].unique()\n",
    "\n",
    "    match_rounds_players_stats_df[\"opponentTeamId\"] = match_rounds_players_stats_df.apply(\n",
    "        lambda x: team_ids[1] if x[\"teamId\"] == team_ids[0] else team_ids[0],\n",
    "        axis=1\n",
    "    )\n",
    "\n",
    "    num_players = match_rounds_players_stats_df.groupby(\n",
    "        [\"roundId\", \"teamId\"]\n",
    "    )[\"playerId\"].count().reset_index().rename(columns={\"playerId\": \"playersCount\"})\n",
    "\n",
    "    match_rounds_players_stats_df = match_rounds_players_stats_df.merge(\n",
    "        num_players, \n",
    "        left_on=[\"roundId\", \"opponentTeamId\"],\n",
    "        right_on=[\"roundId\", \"teamId\"],\n",
    "        how=\"inner\"\n",
    "    )\n",
    "\n",
    "    match_rounds_players_stats_df.rename(columns={\"playersCount\": \"opponentTeamPlayersCount\"}, inplace=True)\n",
    "\n",
    "    match_rounds_players_stats_df[\"fractionOpponentTeamKilled\"] = match_rounds_players_stats_df[\"kills\"] / match_rounds_players_stats_df[\"opponentTeamPlayersCount\"]\n",
    "\n",
    "    match_rounds_players_stats_df[\"ace\"] = (match_rounds_players_stats_df[\"fractionOpponentTeamKilled\"] == 1.0)\n",
    "    \n",
    "    match_rounds_players_ace_df = match_rounds_players_stats_df[[\"roundId\", \"playerId\", \"fractionOpponentTeamKilled\", \"ace\"]]\n",
    "\n",
    "    return match_rounds_players_ace_df"
   ]
  },
  {
   "cell_type": "code",
   "execution_count": 30,
   "id": "e16d5b7e-e613-4f29-9918-cba9b2221dcc",
   "metadata": {},
   "outputs": [],
   "source": [
    "match_rounds_players_ace_df = await get_aces_by_match_id(\"c5c7500c-6db8-45c8-b6ab-2be01b401ef7\")"
   ]
  },
  {
   "cell_type": "code",
   "execution_count": 31,
   "id": "c21ef957-7738-4625-b609-664e5caa9b98",
   "metadata": {},
   "outputs": [
    {
     "data": {
      "text/html": [
       "<div>\n",
       "<style scoped>\n",
       "    .dataframe tbody tr th:only-of-type {\n",
       "        vertical-align: middle;\n",
       "    }\n",
       "\n",
       "    .dataframe tbody tr th {\n",
       "        vertical-align: top;\n",
       "    }\n",
       "\n",
       "    .dataframe thead th {\n",
       "        text-align: right;\n",
       "    }\n",
       "</style>\n",
       "<table border=\"1\" class=\"dataframe\">\n",
       "  <thead>\n",
       "    <tr style=\"text-align: right;\">\n",
       "      <th></th>\n",
       "      <th>roundId</th>\n",
       "      <th>playerId</th>\n",
       "      <th>fractionOpponentTeamKilled</th>\n",
       "      <th>ace</th>\n",
       "    </tr>\n",
       "  </thead>\n",
       "  <tbody>\n",
       "    <tr>\n",
       "      <th>0</th>\n",
       "      <td>round-1:c5c7500c-6db8-45c8-b6ab-2be01b401ef7</td>\n",
       "      <td>76561198031908632</td>\n",
       "      <td>0.0</td>\n",
       "      <td>False</td>\n",
       "    </tr>\n",
       "    <tr>\n",
       "      <th>1</th>\n",
       "      <td>round-1:c5c7500c-6db8-45c8-b6ab-2be01b401ef7</td>\n",
       "      <td>76561198350362302</td>\n",
       "      <td>0.0</td>\n",
       "      <td>False</td>\n",
       "    </tr>\n",
       "    <tr>\n",
       "      <th>2</th>\n",
       "      <td>round-1:c5c7500c-6db8-45c8-b6ab-2be01b401ef7</td>\n",
       "      <td>76561198365697700</td>\n",
       "      <td>0.2</td>\n",
       "      <td>False</td>\n",
       "    </tr>\n",
       "    <tr>\n",
       "      <th>3</th>\n",
       "      <td>round-1:c5c7500c-6db8-45c8-b6ab-2be01b401ef7</td>\n",
       "      <td>76561198059614402</td>\n",
       "      <td>0.2</td>\n",
       "      <td>False</td>\n",
       "    </tr>\n",
       "    <tr>\n",
       "      <th>4</th>\n",
       "      <td>round-1:c5c7500c-6db8-45c8-b6ab-2be01b401ef7</td>\n",
       "      <td>76561198026088156</td>\n",
       "      <td>0.4</td>\n",
       "      <td>False</td>\n",
       "    </tr>\n",
       "  </tbody>\n",
       "</table>\n",
       "</div>"
      ],
      "text/plain": [
       "                                        roundId           playerId  \\\n",
       "0  round-1:c5c7500c-6db8-45c8-b6ab-2be01b401ef7  76561198031908632   \n",
       "1  round-1:c5c7500c-6db8-45c8-b6ab-2be01b401ef7  76561198350362302   \n",
       "2  round-1:c5c7500c-6db8-45c8-b6ab-2be01b401ef7  76561198365697700   \n",
       "3  round-1:c5c7500c-6db8-45c8-b6ab-2be01b401ef7  76561198059614402   \n",
       "4  round-1:c5c7500c-6db8-45c8-b6ab-2be01b401ef7  76561198026088156   \n",
       "\n",
       "   fractionOpponentTeamKilled    ace  \n",
       "0                         0.0  False  \n",
       "1                         0.0  False  \n",
       "2                         0.2  False  \n",
       "3                         0.2  False  \n",
       "4                         0.4  False  "
      ]
     },
     "execution_count": 31,
     "metadata": {},
     "output_type": "execute_result"
    }
   ],
   "source": [
    "match_rounds_players_ace_df.head()"
   ]
  },
  {
   "cell_type": "code",
   "execution_count": null,
   "id": "b5d95c94-30f7-4e53-8009-8217f47c949c",
   "metadata": {},
   "outputs": [],
   "source": [
    "async def get_player_kill_player_by_match_id(match_id: str):\n",
    "    match_rounds_raw_data = await prisma.event.find_many(\n",
    "        where={\n",
    "            'eventType': \"PLAYER_KILLED_PLAYER\",\n",
    "            'matchId': match_id,\n",
    "        },\n",
    "    )"
   ]
  }
 ],
 "metadata": {
  "kernelspec": {
   "display_name": "Python 3 (ipykernel)",
   "language": "python",
   "name": "python3"
  },
  "language_info": {
   "codemirror_mode": {
    "name": "ipython",
    "version": 3
   },
   "file_extension": ".py",
   "mimetype": "text/x-python",
   "name": "python",
   "nbconvert_exporter": "python",
   "pygments_lexer": "ipython3",
   "version": "3.10.12"
  }
 },
 "nbformat": 4,
 "nbformat_minor": 5
}
