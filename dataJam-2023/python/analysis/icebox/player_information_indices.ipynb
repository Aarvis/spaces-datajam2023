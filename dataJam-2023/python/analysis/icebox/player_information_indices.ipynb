{
 "cells": [
  {
   "cell_type": "code",
   "execution_count": 1,
   "id": "a34b5544-7ed2-4f8c-a389-39ab6283e254",
   "metadata": {},
   "outputs": [
    {
     "ename": "ModuleNotFoundError",
     "evalue": "No module named 'src'",
     "output_type": "error",
     "traceback": [
      "\u001b[0;31m---------------------------------------------------------------------------\u001b[0m",
      "\u001b[0;31mModuleNotFoundError\u001b[0m                       Traceback (most recent call last)",
      "Cell \u001b[0;32mIn[1], line 8\u001b[0m\n\u001b[1;32m      5\u001b[0m \u001b[38;5;28;01mimport\u001b[39;00m \u001b[38;5;21;01mpandas\u001b[39;00m \u001b[38;5;28;01mas\u001b[39;00m \u001b[38;5;21;01mpd\u001b[39;00m\n\u001b[1;32m      6\u001b[0m \u001b[38;5;28;01mimport\u001b[39;00m \u001b[38;5;21;01mmatplotlib\u001b[39;00m\u001b[38;5;21;01m.\u001b[39;00m\u001b[38;5;21;01mpyplot\u001b[39;00m \u001b[38;5;28;01mas\u001b[39;00m \u001b[38;5;21;01mplt\u001b[39;00m\n\u001b[0;32m----> 8\u001b[0m \u001b[38;5;28;01mfrom\u001b[39;00m \u001b[38;5;21;01msrc\u001b[39;00m\u001b[38;5;21;01m.\u001b[39;00m\u001b[38;5;21;01mprisma\u001b[39;00m \u001b[38;5;28;01mimport\u001b[39;00m prisma\n",
      "\u001b[0;31mModuleNotFoundError\u001b[0m: No module named 'src'"
     ]
    }
   ],
   "source": [
    "from datetime import datetime\n",
    "from itertools import combinations\n",
    "\n",
    "import numpy as np\n",
    "import pandas as pd\n",
    "import matplotlib.pyplot as plt\n",
    "\n",
    "from src.prisma import prisma"
   ]
  },
  {
   "cell_type": "code",
   "execution_count": null,
   "id": "b37933da-4e85-4acd-8b59-9194adc7cb80",
   "metadata": {},
   "outputs": [],
   "source": [
    "async def startup():\n",
    "    await prisma.connect()"
   ]
  },
  {
   "cell_type": "code",
   "execution_count": null,
   "id": "fd79a3cf-61dc-4c24-92eb-57cbb0078185",
   "metadata": {},
   "outputs": [],
   "source": [
    "async def shutdown():\n",
    "    await prisma.disconnect()"
   ]
  },
  {
   "cell_type": "code",
   "execution_count": null,
   "id": "37c0b029-bccc-4ab7-b0cf-546a2124406f",
   "metadata": {},
   "outputs": [],
   "source": [
    "await startup()"
   ]
  },
  {
   "cell_type": "code",
   "execution_count": null,
   "id": "31e88288-34fd-4068-9c20-21c7e15dea0f",
   "metadata": {},
   "outputs": [],
   "source": [
    "def convert_str_timestamp_to_timestamp(timestamp_str: str, timestamp_format: str = \"%Y-%m-%dT%H:%M:%S.%fZ\") -> int:\n",
    "    timestamp = datetime.timestamp(datetime.strptime(timestamp_str, timestamp_format))\n",
    "\n",
    "    return timestamp"
   ]
  },
  {
   "cell_type": "code",
   "execution_count": null,
   "id": "aae9bc6e-a9be-40a1-b53d-4a8d079a0b3a",
   "metadata": {},
   "outputs": [],
   "source": [
    "async def get_player_damaged_player_event(event_id: str) -> dict:\n",
    "    player_damage_player_raw_data = await prisma.playerdamagedplayerevent.find_first(\n",
    "        where={\n",
    "            'eventId': event_id,\n",
    "        }\n",
    "    )\n",
    "\n",
    "    player_damage_player_data = player_damage_player_raw_data.dict()\n",
    "\n",
    "    return player_damage_player_data"
   ]
  },
  {
   "cell_type": "code",
   "execution_count": null,
   "id": "91716ce7-df4c-4567-a44d-f81eb69e79ac",
   "metadata": {},
   "outputs": [],
   "source": [
    "async def get_player_killed_player_event(event_id: str) -> dict:\n",
    "    player_killed_player_raw_data = await prisma.playerkilledplayerevent.find_first(\n",
    "        where={\n",
    "            'eventId': event_id,\n",
    "        }\n",
    "    )\n",
    "\n",
    "    player_killed_player_data = player_killed_player_raw_data.dict()\n",
    "\n",
    "    return player_killed_player_data"
   ]
  },
  {
   "cell_type": "code",
   "execution_count": null,
   "id": "6a981cef-58e7-4080-b392-103da43c6840",
   "metadata": {},
   "outputs": [],
   "source": [
    "async def get_rounds_by_match_id(match_id: str) -> list:\n",
    "    match_rounds_raw_data = await prisma.round.find_many(\n",
    "        where={\n",
    "            'matchId': match_id,\n",
    "        },\n",
    "        include={\n",
    "            'events': True\n",
    "        },\n",
    "    )\n",
    "\n",
    "    match_rounds_data = []\n",
    "    for match_round_raw_data in match_rounds_raw_data:\n",
    "        match_rounds_data.append(match_round_raw_data.dict())\n",
    "\n",
    "    return match_rounds_data"
   ]
  },
  {
   "cell_type": "code",
   "execution_count": null,
   "id": "4e8e50e0-64da-4a89-836b-e91d4520f62a",
   "metadata": {},
   "outputs": [],
   "source": [
    "async def get_rounds_pdp_pkp_data_by_match_id(match_id: str) -> dict:\n",
    "    rounds_by_match_id = await get_rounds_by_match_id(match_id)\n",
    "\n",
    "    # rounds_data = {\n",
    "    #     round_id: {\n",
    "    #         pdp: {\n",
    "    #             actor: {\n",
    "    #                 target: [(d_d, t_d),...]\n",
    "    #             }\n",
    "    #         }\n",
    "    #         pkp: {\n",
    "    #             actor: {\n",
    "    #                 target: (true, t_k)\n",
    "    #             }\n",
    "    #         }\n",
    "    #     }\n",
    "    # }\n",
    "    rounds_data = {}\n",
    "    for round in rounds_by_match_id:\n",
    "        round_id = round[\"roundId\"]\n",
    "    \n",
    "        events = {\n",
    "            \"pdp\": {},\n",
    "            \"pkp\": {},\n",
    "        }\n",
    "        for event in round[\"events\"]:\n",
    "            event_id = event[\"eventId\"]\n",
    "            timestamp = event[\"timestamp\"]\n",
    "            \n",
    "            if event[\"eventType\"] == \"PLAYER_DAMAGED_PLAYER\":\n",
    "                player_damaged_player_event = await get_player_damaged_player_event(event_id)\n",
    "                \n",
    "                actor = player_damaged_player_event[\"actorPlayerId\"]\n",
    "                target = player_damaged_player_event[\"targetPlayerId\"]\n",
    "                damage = player_damaged_player_event[\"damageDealt\"]\n",
    "    \n",
    "                if actor in events[\"pdp\"]:\n",
    "                    if target in events[\"pdp\"][actor]:\n",
    "                        events[\"pdp\"][actor][target] += [(damage, timestamp)]\n",
    "                    else:\n",
    "                        events[\"pdp\"][actor] = {\n",
    "                            target: [(damage, timestamp)]\n",
    "                        }\n",
    "                else:\n",
    "                    events[\"pdp\"][actor] = {\n",
    "                        target: [(damage, timestamp)]\n",
    "                    }\n",
    "            elif event[\"eventType\"] == \"PLAYER_KILLED_PLAYER\":\n",
    "                player_killed_player_event = await get_player_killed_player_event(event_id)\n",
    "                \n",
    "                actor = player_killed_player_event[\"actorPlayerId\"]\n",
    "                target = player_killed_player_event[\"targetPlayerId\"]\n",
    "    \n",
    "                if actor in events[\"pkp\"]:\n",
    "                    if target in events[\"pkp\"][actor]:\n",
    "                        continue\n",
    "                    else:\n",
    "                        events[\"pkp\"][actor][target] = (True, timestamp)\n",
    "                else:\n",
    "                    events[\"pkp\"][actor] = {\n",
    "                        target: (True, timestamp)\n",
    "                    }\n",
    "                \n",
    "        rounds_data[round_id] = events\n",
    "\n",
    "    return rounds_data"
   ]
  },
  {
   "cell_type": "code",
   "execution_count": null,
   "id": "007a6918-e8ac-4e89-8eb9-e19509276671",
   "metadata": {},
   "outputs": [],
   "source": [
    "async def get_rounds_pdp_pkp_data_by_match_ids(match_ids: list[str]) -> dict:\n",
    "    rounds_pdp_pkp_data_by_match_ids = {}\n",
    "    for match_id in match_ids:\n",
    "        rounds_pdp_pkp_data_by_match_id = await get_rounds_pdp_pkp_data_by_match_id(match_id)\n",
    "\n",
    "        rounds_pdp_pkp_data_by_match_ids.update(rounds_pdp_pkp_data_by_match_id)\n",
    "\n",
    "    return rounds_pdp_pkp_data_by_match_ids"
   ]
  },
  {
   "cell_type": "code",
   "execution_count": null,
   "id": "30777dc7-b4ed-4b07-aa27-4ec6c29244c5",
   "metadata": {},
   "outputs": [],
   "source": [
    "async def get_player_damage_kill_information_index_by_match_ids(match_ids: list[str]) -> pd.DataFrame:\n",
    "    rounds_data = await get_rounds_pdp_pkp_data_by_match_ids(match_ids)\n",
    "    \n",
    "    player_damage_kill_information_index_raw_data = {}\n",
    "    for round_id, round_data in rounds_data.items():\n",
    "        # Round\n",
    "        for actor_id, target_data in round_data[\"pkp\"].items():\n",
    "            # Actor\n",
    "            for target_id, (_, kill_timestamp) in target_data.items():\n",
    "                # Target\n",
    "                kill_damage_delta_t = []\n",
    "                if actor_id in round_data[\"pdp\"]:\n",
    "                    if target_id in round_data[\"pdp\"][actor_id]:\n",
    "                        for damage_dealt, damage_timestamp in round_data[\"pdp\"][actor_id][target_id]:\n",
    "                            kill_damage_delta_t.append(\n",
    "                                convert_str_timestamp_to_timestamp(kill_timestamp)-convert_str_timestamp_to_timestamp(damage_timestamp)\n",
    "                            )\n",
    "                \n",
    "                if actor_id in player_damage_kill_information_index_raw_data:\n",
    "                    player_damage_kill_information_index_raw_data[actor_id] += kill_damage_delta_t\n",
    "                else:\n",
    "                    player_damage_kill_information_index_raw_data[actor_id] = kill_damage_delta_t\n",
    "    \n",
    "    players_damage_kill_information_index = []\n",
    "    for player, data in player_damage_kill_information_index_raw_data.items():\n",
    "        mean_t_k_diff_t_d = np.mean(data)\n",
    "        std_t_k_diff_t_d = np.std(data)\n",
    "        player_damage_kill_information_index = std_t_k_diff_t_d / mean_t_k_diff_t_d\n",
    "        \n",
    "        players_damage_kill_information_index += [\n",
    "            {\n",
    "                \"player\": player,\n",
    "                \"mean_t_k_diff_t_d\": mean_t_k_diff_t_d,\n",
    "                \"std_t_k_diff_t_d\": std_t_k_diff_t_d,\n",
    "                \"player_damage_kill_information_index\": player_damage_kill_information_index,\n",
    "            }\n",
    "        ]\n",
    "    \n",
    "    players_damage_kill_information_index = pd.DataFrame(players_damage_kill_information_index)\n",
    "    \n",
    "    return players_damage_kill_information_index"
   ]
  },
  {
   "cell_type": "code",
   "execution_count": null,
   "id": "89909308-d0e2-407c-ba07-c986b168b75f",
   "metadata": {},
   "outputs": [],
   "source": [
    "async def get_player_kill_kill_information_index_by_match_ids(match_ids: list[str]) -> pd.DataFrame:\n",
    "    rounds_data = await get_rounds_pdp_pkp_data_by_match_ids(match_ids)\n",
    "\n",
    "    player_kill_kill_information_index_raw_data = {}\n",
    "    for round_id, round_data in rounds_data.items():\n",
    "        # Round\n",
    "        for actor_id, target_data in round_data[\"pkp\"].items():\n",
    "            # Actor\n",
    "            kill_timestamps = []\n",
    "            for target_id, (_, kill_timestamp) in target_data.items():\n",
    "                # Target\n",
    "                kill_timestamps.append(kill_timestamp)\n",
    "    \n",
    "            if len(kill_timestamps) > 1:\n",
    "                idxs = list(combinations(range(len(kill_timestamps)), 2))\n",
    "    \n",
    "                kill_timestamps_delta_t = []\n",
    "                for (i, j) in idxs:\n",
    "                    kill_timestamps_delta_t.append(\n",
    "                        abs(convert_str_timestamp_to_timestamp(kill_timestamps[i])-convert_str_timestamp_to_timestamp(kill_timestamps[j]))\n",
    "                    )\n",
    "    \n",
    "                if actor_id in player_kill_kill_information_index_raw_data:\n",
    "                    player_kill_kill_information_index_raw_data[actor_id] += kill_timestamps_delta_t\n",
    "                else:\n",
    "                    player_kill_kill_information_index_raw_data[actor_id] = kill_timestamps_delta_t\n",
    "            else:\n",
    "                continue\n",
    "\n",
    "    players_kill_kill_information_index = []\n",
    "    for player, data in player_kill_kill_information_index_raw_data.items():\n",
    "        mean_t_k_diff_t_k = np.mean(data)\n",
    "        std_t_k_diff_t_k = np.std(data)\n",
    "        player_kill_kill_information_index = std_t_k_diff_t_k / mean_t_k_diff_t_k\n",
    "        \n",
    "        players_kill_kill_information_index += [\n",
    "            {\n",
    "                \"player\": player,\n",
    "                \"mean_t_k_diff_t_k\": mean_t_k_diff_t_k,\n",
    "                \"std_t_k_diff_t_k\": std_t_k_diff_t_k,\n",
    "                \"player_kill_kill_information_index\": player_kill_kill_information_index,\n",
    "            }\n",
    "        ]\n",
    "    \n",
    "    players_kill_kill_information_index = pd.DataFrame(players_kill_kill_information_index)\n",
    "    \n",
    "    return players_kill_kill_information_index"
   ]
  },
  {
   "cell_type": "code",
   "execution_count": null,
   "id": "b907cf81-8cc3-4925-ac56-1aecc7f1204b",
   "metadata": {},
   "outputs": [],
   "source": [
    "match_ids = [\"c5c7500c-6db8-45c8-b6ab-2be01b401ef7\", \"c7c65bec-8c54-4dea-afcd-c057320e1f8f\"]"
   ]
  },
  {
   "cell_type": "code",
   "execution_count": null,
   "id": "7c51700b-dcce-4750-998d-cf6d8ee1f327",
   "metadata": {},
   "outputs": [],
   "source": [
    "players_damage_kill_information_index = await get_player_damage_kill_information_index_by_match_ids(match_ids)\n",
    "\n",
    "players_damage_kill_information_index"
   ]
  },
  {
   "cell_type": "code",
   "execution_count": null,
   "id": "8a7536f0-4f5c-482a-a63e-594dff60e526",
   "metadata": {},
   "outputs": [],
   "source": [
    "players_kill_kill_information_index = await get_player_kill_kill_information_index_by_match_ids(match_ids)\n",
    "\n",
    "players_kill_kill_information_index"
   ]
  },
  {
   "cell_type": "code",
   "execution_count": null,
   "id": "7d501e5c-47b3-4aa6-9978-63e70da4c63f",
   "metadata": {},
   "outputs": [],
   "source": [
    "rounds_pdp_pkp_data = await get_rounds_pdp_pkp_data_by_match_ids(match_ids)"
   ]
  },
  {
   "cell_type": "code",
   "execution_count": null,
   "id": "43007701-b6b8-4cfc-b4e2-5222f2976fb9",
   "metadata": {},
   "outputs": [],
   "source": [
    "player_id = \"76561198031908632\"\n",
    "for round_id, rounds_data in rounds_pdp_pkp_data.items():\n",
    "    print(\"=\"*10, round_id, \"=\"*10)\n",
    "    if player_id in rounds_pdp_pkp_data[round_id][\"pkp\"]:\n",
    "        print(\"=\"*10, \"Kills\", \"=\"*10)\n",
    "        print(rounds_pdp_pkp_data[round_id][\"pkp\"][player_id])\n",
    "\n",
    "    if player_id in rounds_pdp_pkp_data[round_id][\"pdp\"]:\n",
    "        print(\"=\"*10, \"Damages\", \"=\"*10)\n",
    "        print(rounds_pdp_pkp_data[round_id][\"pdp\"][player_id])"
   ]
  },
  {
   "cell_type": "code",
   "execution_count": null,
   "id": "c1bd389b-e808-4a3f-8c69-0da37f96ed27",
   "metadata": {},
   "outputs": [],
   "source": [
    "player_id = \"76561198070876270\"\n",
    "for round_id, rounds_data in rounds_pdp_pkp_data.items():\n",
    "    print(\"=\"*10, round_id, \"=\"*10)\n",
    "    if player_id in rounds_pdp_pkp_data[round_id][\"pkp\"]:\n",
    "        print(\"=\"*10, \"Kills\", \"=\"*10)\n",
    "        print(rounds_pdp_pkp_data[round_id][\"pkp\"][player_id])\n",
    "\n",
    "    if player_id in rounds_pdp_pkp_data[round_id][\"pdp\"]:\n",
    "        print(\"=\"*10, \"Damages\", \"=\"*10)\n",
    "        print(rounds_pdp_pkp_data[round_id][\"pdp\"][player_id])"
   ]
  },
  {
   "cell_type": "code",
   "execution_count": null,
   "id": "f1972919-fabb-4c57-9698-fa447945f810",
   "metadata": {},
   "outputs": [],
   "source": [
    "player_id = \"76561198030545997\"\n",
    "for round_id, rounds_data in rounds_pdp_pkp_data.items():\n",
    "    print(\"=\"*10, round_id, \"=\"*10)\n",
    "    if player_id in rounds_pdp_pkp_data[round_id][\"pkp\"]:\n",
    "        print(\"=\"*10, \"Kills\", \"=\"*10)\n",
    "        print(rounds_pdp_pkp_data[round_id][\"pkp\"][player_id])"
   ]
  },
  {
   "cell_type": "code",
   "execution_count": null,
   "id": "4ac67941-fa01-4489-abec-f02d14baee69",
   "metadata": {},
   "outputs": [],
   "source": [
    "player_id = \"76561198365697700\"\n",
    "for round_id, rounds_data in rounds_pdp_pkp_data.items():\n",
    "    print(\"=\"*10, round_id, \"=\"*10)\n",
    "    if player_id in rounds_pdp_pkp_data[round_id][\"pkp\"]:\n",
    "        print(\"=\"*10, \"Kills\", \"=\"*10)\n",
    "        print(rounds_pdp_pkp_data[round_id][\"pkp\"][player_id])"
   ]
  }
 ],
 "metadata": {
  "kernelspec": {
   "display_name": "Python 3 (ipykernel)",
   "language": "python",
   "name": "python3"
  },
  "language_info": {
   "codemirror_mode": {
    "name": "ipython",
    "version": 3
   },
   "file_extension": ".py",
   "mimetype": "text/x-python",
   "name": "python",
   "nbconvert_exporter": "python",
   "pygments_lexer": "ipython3",
   "version": "3.10.12"
  }
 },
 "nbformat": 4,
 "nbformat_minor": 5
}
